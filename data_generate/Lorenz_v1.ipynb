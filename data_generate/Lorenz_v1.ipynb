{
 "cells": [
  {
   "cell_type": "markdown",
   "metadata": {},
   "source": [
    "## Lorenz system (nonlinear ODE)\n",
    "\n",
    "\n",
    "$$ \\begin{aligned} \\dot x &= \\sigma(y-x)\\\\ \\dot y &= x(\\rho - z) - y \\\\ \\dot z &= xy - \\beta z, \\end{aligned} $$\n"
   ]
  },
  {
   "cell_type": "code",
   "execution_count": 1,
   "metadata": {},
   "outputs": [],
   "source": [
    "import matplotlib.pyplot as plt\n",
    "from mpl_toolkits.mplot3d import Axes3D\n",
    "from matplotlib.cm import rainbow\n",
    "import numpy as np\n",
    "from scipy.integrate import odeint\n",
    "from scipy.io import loadmat\n",
    "import pysindy as ps"
   ]
  },
  {
   "cell_type": "code",
   "execution_count": 2,
   "metadata": {},
   "outputs": [],
   "source": [
    "# Generate training data\n",
    "def lorenz(x, t):\n",
    "    return [\n",
    "        - 10 * x[0] - 10.9 * x[1],\n",
    "        - 0.9 * x[1]  + 9.6 * x[0] * x[2],\n",
    "        - 3.1 * x[0] * x[1] - 2.7 * x[2] - 7.1,\n",
    "    ]\n",
    "\n",
    "dt = 0.001\n",
    "t_train = np.arange(0, 10, dt)\n",
    "x0_train = [-8, 7, 27]\n",
    "x_train = odeint(lorenz, x0_train, t_train)\n",
    "x_dot_train_measured = np.array(\n",
    "    [lorenz(x_train[i], 0) for i in range(t_train.size)]\n",
    ")"
   ]
  },
  {
   "cell_type": "code",
   "execution_count": 3,
   "metadata": {},
   "outputs": [],
   "source": [
    "# Candidate Functions \n",
    "\n",
    "def build_Theta(data, derivatives, derivatives_description, P, data_description = None):\n",
    "    \n",
    "    n,d = data.shape\n",
    "    m, d2 = derivatives.shape\n",
    "    if n != m: raise Exception('dimension error')\n",
    "    if data_description is not None: \n",
    "        if len(data_description) != d: raise Exception('data descrption error')\n",
    "    \n",
    "    # Create a list of all polynomials in d variables up to degree P\n",
    "    rhs_functions = {}\n",
    "    f = lambda x, y : np.prod(np.power(list(x), list(y)))\n",
    "    powers = []            \n",
    "    for p in range(1,P+1):\n",
    "            size = d + p - 1\n",
    "            for indices in itertools.combinations(range(size), d-1):\n",
    "                starts = [0] + [index+1 for index in indices]\n",
    "                stops = indices + (size,)\n",
    "                powers.append(tuple(map(operator.sub, stops, starts)))\n",
    "    for power in powers: rhs_functions[power] = [lambda x, y = power: f(x,y), power]\n",
    "\n",
    "    # First column of Theta is just ones.\n",
    "    Theta = np.ones((n,1), dtype=np.complex64)\n",
    "    descr = ['']\n",
    "    \n",
    "    # Add the derivaitves onto Theta\n",
    "    for D in range(1,derivatives.shape[1]):\n",
    "        Theta = np.hstack([Theta, derivatives[:,D].reshape(n,1)])\n",
    "        descr.append(derivatives_description[D])\n",
    "        \n",
    "    # Add on derivatives times polynomials\n",
    "    for D in range(derivatives.shape[1]):\n",
    "        for k in rhs_functions.keys():\n",
    "            func = rhs_functions[k][0]\n",
    "            new_column = np.zeros((n,1), dtype=np.complex64)\n",
    "            for i in range(n):\n",
    "                new_column[i] = func(data[i,:])*derivatives[i,D]\n",
    "            Theta = np.hstack([Theta, new_column])\n",
    "            if data_description is None: descr.append(str(rhs_functions[k][1]) + derivatives_description[D])\n",
    "            else:\n",
    "                function_description = ''\n",
    "                for j in range(d):\n",
    "                    if rhs_functions[k][1][j] != 0:\n",
    "                        if rhs_functions[k][1][j] == 1:\n",
    "                            function_description = function_description + data_description[j]\n",
    "                        else:\n",
    "                            function_description = function_description + data_description[j] + '^' + str(rhs_functions[k][1][j])\n",
    "                descr.append(function_description + derivatives_description[D])\n",
    "\n",
    "    return Theta, descr"
   ]
  },
  {
   "cell_type": "code",
   "execution_count": 4,
   "metadata": {},
   "outputs": [
    {
     "data": {
      "text/plain": [
       "['1', 'z', 'y', 'x', 'z^2', 'yz', 'y^2', 'xz', 'xy', 'x^2']"
      ]
     },
     "execution_count": 4,
     "metadata": {},
     "output_type": "execute_result"
    }
   ],
   "source": [
    "import itertools\n",
    "import operator\n",
    "# Form a huge matrix using up to quadratic polynomials in all variables.\n",
    "X_data = x_train\n",
    "X_ders = np.hstack([np.ones((10000,1))])\n",
    "X_ders_descr = ['']\n",
    "X, description = build_Theta(X_data, X_ders, X_ders_descr, 2, data_description = ['x','y','z'])\n",
    "['1'] + description[1:]"
   ]
  },
  {
   "cell_type": "code",
   "execution_count": 5,
   "metadata": {},
   "outputs": [],
   "source": [
    "import scipy.io as sio\n",
    "sio.savemat('Lorenz_v1.mat',{'Xt':x_dot_train_measured[:,0].reshape(10000,1),'Yt':x_dot_train_measured[:,1].reshape(10000,1),'Zt':x_dot_train_measured[:,2].reshape(10000,1),'R':X})"
   ]
  },
  {
   "cell_type": "code",
   "execution_count": null,
   "metadata": {},
   "outputs": [],
   "source": []
  }
 ],
 "metadata": {
  "kernelspec": {
   "display_name": "Python 3",
   "language": "python",
   "name": "python3"
  },
  "language_info": {
   "codemirror_mode": {
    "name": "ipython",
    "version": 3
   },
   "file_extension": ".py",
   "mimetype": "text/x-python",
   "name": "python",
   "nbconvert_exporter": "python",
   "pygments_lexer": "ipython3",
   "version": "3.8.8"
  },
  "toc": {
   "base_numbering": 1,
   "nav_menu": {},
   "number_sections": true,
   "sideBar": true,
   "skip_h1_title": false,
   "title_cell": "Table of Contents",
   "title_sidebar": "Contents",
   "toc_cell": false,
   "toc_position": {},
   "toc_section_display": true,
   "toc_window_display": true
  },
  "varInspector": {
   "cols": {
    "lenName": 16,
    "lenType": 16,
    "lenVar": 40
   },
   "kernels_config": {
    "python": {
     "delete_cmd_postfix": "",
     "delete_cmd_prefix": "del ",
     "library": "var_list.py",
     "varRefreshCmd": "print(var_dic_list())"
    },
    "r": {
     "delete_cmd_postfix": ") ",
     "delete_cmd_prefix": "rm(",
     "library": "var_list.r",
     "varRefreshCmd": "cat(var_dic_list()) "
    }
   },
   "types_to_exclude": [
    "module",
    "function",
    "builtin_function_or_method",
    "instance",
    "_Feature"
   ],
   "window_display": false
  }
 },
 "nbformat": 4,
 "nbformat_minor": 2
}
